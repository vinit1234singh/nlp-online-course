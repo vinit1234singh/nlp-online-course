{
 "cells": [
  {
   "cell_type": "markdown",
   "id": "9d792845",
   "metadata": {},
   "source": [
    "### Dataset Link: https://www.kaggle.com/columbine/imdb-dataset-sentiment-analysis-in-csv-format\n",
    "\n",
    "Sentiment Analysis can help us finding out the mood and emotions of general a customer or reviewer and it helps in gathering the insightful information regarding the context. Sentiment Analysis is a process of analyzing data and classifying it based on the need of the research."
   ]
  },
  {
   "cell_type": "code",
   "execution_count": 39,
   "id": "dbbde052",
   "metadata": {},
   "outputs": [],
   "source": [
    "import pandas as pd\n",
    "from textblob import TextBlob\n",
    "from nltk.tokenize.toktok import ToktokTokenizer\n",
    "import re\n",
    "tokenizer = ToktokTokenizer()\n",
    "import spacy\n",
    "nlp = spacy.load('en_core_web_sm', disable=['ner'])"
   ]
  },
  {
   "cell_type": "code",
   "execution_count": 40,
   "id": "04c4c58d",
   "metadata": {},
   "outputs": [
    {
     "data": {
      "text/plain": [
       "Sentiment(polarity=0.9099999999999999, subjectivity=0.7800000000000001)"
      ]
     },
     "execution_count": 40,
     "metadata": {},
     "output_type": "execute_result"
    }
   ],
   "source": [
    "TextBlob(\"he is very good boy\").sentiment"
   ]
  },
  {
   "cell_type": "code",
   "execution_count": 41,
   "id": "1a2e0b46",
   "metadata": {},
   "outputs": [
    {
     "data": {
      "text/plain": [
       "Sentiment(polarity=-0.35, subjectivity=0.6000000000000001)"
      ]
     },
     "execution_count": 41,
     "metadata": {},
     "output_type": "execute_result"
    }
   ],
   "source": [
    "TextBlob(\"he is not a good boy\").sentiment"
   ]
  },
  {
   "cell_type": "code",
   "execution_count": 42,
   "id": "55365318",
   "metadata": {},
   "outputs": [
    {
     "data": {
      "text/plain": [
       "Sentiment(polarity=-0.4, subjectivity=0.6)"
      ]
     },
     "execution_count": 42,
     "metadata": {},
     "output_type": "execute_result"
    }
   ],
   "source": [
    "TextBlob(\"Eerybody says this man is poor\").sentiment"
   ]
  },
  {
   "cell_type": "markdown",
   "id": "13683e3c",
   "metadata": {},
   "source": [
    "### Polarity and Subjectivity\n",
    "Polarity is a float value which helps in identifying whether a sentence is positive or negative. Its values ranges in [-1,1] where 1 means positive statement and -1 means a negative statement. \n",
    "\n",
    "On the other side, Subjective sentences generally refer to personal opinion, emotion or judgment whereas objective refers to factual information. Subjectivity is also a float which lies in the range of [0,1]. Closer the value to 1, more likly it is public opinion."
   ]
  },
  {
   "cell_type": "code",
   "execution_count": 43,
   "id": "9110f05a",
   "metadata": {},
   "outputs": [
    {
     "data": {
      "text/html": [
       "<div>\n",
       "<style scoped>\n",
       "    .dataframe tbody tr th:only-of-type {\n",
       "        vertical-align: middle;\n",
       "    }\n",
       "\n",
       "    .dataframe tbody tr th {\n",
       "        vertical-align: top;\n",
       "    }\n",
       "\n",
       "    .dataframe thead th {\n",
       "        text-align: right;\n",
       "    }\n",
       "</style>\n",
       "<table border=\"1\" class=\"dataframe\">\n",
       "  <thead>\n",
       "    <tr style=\"text-align: right;\">\n",
       "      <th></th>\n",
       "      <th>text</th>\n",
       "      <th>label</th>\n",
       "    </tr>\n",
       "  </thead>\n",
       "  <tbody>\n",
       "    <tr>\n",
       "      <th>0</th>\n",
       "      <td>I grew up (b. 1965) watching and loving the Th...</td>\n",
       "      <td>0</td>\n",
       "    </tr>\n",
       "    <tr>\n",
       "      <th>1</th>\n",
       "      <td>When I put this movie in my DVD player, and sa...</td>\n",
       "      <td>0</td>\n",
       "    </tr>\n",
       "    <tr>\n",
       "      <th>2</th>\n",
       "      <td>Why do people who do not know what a particula...</td>\n",
       "      <td>0</td>\n",
       "    </tr>\n",
       "    <tr>\n",
       "      <th>3</th>\n",
       "      <td>Even though I have great interest in Biblical ...</td>\n",
       "      <td>0</td>\n",
       "    </tr>\n",
       "    <tr>\n",
       "      <th>4</th>\n",
       "      <td>Im a die hard Dads Army fan and nothing will e...</td>\n",
       "      <td>1</td>\n",
       "    </tr>\n",
       "    <tr>\n",
       "      <th>...</th>\n",
       "      <td>...</td>\n",
       "      <td>...</td>\n",
       "    </tr>\n",
       "    <tr>\n",
       "      <th>39995</th>\n",
       "      <td>\"Western Union\" is something of a forgotten cl...</td>\n",
       "      <td>1</td>\n",
       "    </tr>\n",
       "    <tr>\n",
       "      <th>39996</th>\n",
       "      <td>This movie is an incredible piece of work. It ...</td>\n",
       "      <td>1</td>\n",
       "    </tr>\n",
       "    <tr>\n",
       "      <th>39997</th>\n",
       "      <td>My wife and I watched this movie because we pl...</td>\n",
       "      <td>0</td>\n",
       "    </tr>\n",
       "    <tr>\n",
       "      <th>39998</th>\n",
       "      <td>When I first watched Flatliners, I was amazed....</td>\n",
       "      <td>1</td>\n",
       "    </tr>\n",
       "    <tr>\n",
       "      <th>39999</th>\n",
       "      <td>Why would this film be so good, but only gross...</td>\n",
       "      <td>1</td>\n",
       "    </tr>\n",
       "  </tbody>\n",
       "</table>\n",
       "<p>40000 rows × 2 columns</p>\n",
       "</div>"
      ],
      "text/plain": [
       "                                                    text  label\n",
       "0      I grew up (b. 1965) watching and loving the Th...      0\n",
       "1      When I put this movie in my DVD player, and sa...      0\n",
       "2      Why do people who do not know what a particula...      0\n",
       "3      Even though I have great interest in Biblical ...      0\n",
       "4      Im a die hard Dads Army fan and nothing will e...      1\n",
       "...                                                  ...    ...\n",
       "39995  \"Western Union\" is something of a forgotten cl...      1\n",
       "39996  This movie is an incredible piece of work. It ...      1\n",
       "39997  My wife and I watched this movie because we pl...      0\n",
       "39998  When I first watched Flatliners, I was amazed....      1\n",
       "39999  Why would this film be so good, but only gross...      1\n",
       "\n",
       "[40000 rows x 2 columns]"
      ]
     },
     "execution_count": 43,
     "metadata": {},
     "output_type": "execute_result"
    }
   ],
   "source": [
    "### Data Loading\n",
    "train=pd.read_csv(\"Train.csv\")\n",
    "train"
   ]
  },
  {
   "cell_type": "code",
   "execution_count": 44,
   "id": "66aeddb4",
   "metadata": {},
   "outputs": [],
   "source": [
    "label_0=train[train['label']==0].sample(n=5000)\n",
    "label_1=train[train['label']==1].sample(n=5000)"
   ]
  },
  {
   "cell_type": "code",
   "execution_count": 45,
   "id": "9bc21abd",
   "metadata": {},
   "outputs": [],
   "source": [
    "train=pd.concat([label_1,label_0])\n",
    "from sklearn.utils import shuffle\n",
    "train = shuffle(train)"
   ]
  },
  {
   "cell_type": "code",
   "execution_count": 46,
   "id": "9864aa78",
   "metadata": {},
   "outputs": [
    {
     "data": {
      "text/html": [
       "<div>\n",
       "<style scoped>\n",
       "    .dataframe tbody tr th:only-of-type {\n",
       "        vertical-align: middle;\n",
       "    }\n",
       "\n",
       "    .dataframe tbody tr th {\n",
       "        vertical-align: top;\n",
       "    }\n",
       "\n",
       "    .dataframe thead th {\n",
       "        text-align: right;\n",
       "    }\n",
       "</style>\n",
       "<table border=\"1\" class=\"dataframe\">\n",
       "  <thead>\n",
       "    <tr style=\"text-align: right;\">\n",
       "      <th></th>\n",
       "      <th>text</th>\n",
       "      <th>label</th>\n",
       "    </tr>\n",
       "  </thead>\n",
       "  <tbody>\n",
       "    <tr>\n",
       "      <th>10204</th>\n",
       "      <td>Uh oh! Another gay film. This time it's showin...</td>\n",
       "      <td>0</td>\n",
       "    </tr>\n",
       "    <tr>\n",
       "      <th>28500</th>\n",
       "      <td>In case you're wondering the buffoonish Loren ...</td>\n",
       "      <td>0</td>\n",
       "    </tr>\n",
       "    <tr>\n",
       "      <th>34313</th>\n",
       "      <td>A must see film with great dialogues, great mu...</td>\n",
       "      <td>1</td>\n",
       "    </tr>\n",
       "    <tr>\n",
       "      <th>7195</th>\n",
       "      <td>This film does not fail to engage and move, ev...</td>\n",
       "      <td>1</td>\n",
       "    </tr>\n",
       "    <tr>\n",
       "      <th>22891</th>\n",
       "      <td>After watching the Next Action Star reality TV...</td>\n",
       "      <td>1</td>\n",
       "    </tr>\n",
       "    <tr>\n",
       "      <th>...</th>\n",
       "      <td>...</td>\n",
       "      <td>...</td>\n",
       "    </tr>\n",
       "    <tr>\n",
       "      <th>25690</th>\n",
       "      <td>There's really no way to beat around the bush ...</td>\n",
       "      <td>0</td>\n",
       "    </tr>\n",
       "    <tr>\n",
       "      <th>15506</th>\n",
       "      <td>Okay, I struggled to set aside the fact that i...</td>\n",
       "      <td>0</td>\n",
       "    </tr>\n",
       "    <tr>\n",
       "      <th>20273</th>\n",
       "      <td>The mind boggles at exactly what about Univers...</td>\n",
       "      <td>0</td>\n",
       "    </tr>\n",
       "    <tr>\n",
       "      <th>11102</th>\n",
       "      <td>I just saw this movie at the Tribeca Film Fest...</td>\n",
       "      <td>1</td>\n",
       "    </tr>\n",
       "    <tr>\n",
       "      <th>24390</th>\n",
       "      <td>Ernst Lubitsch gave us wonderful films like De...</td>\n",
       "      <td>1</td>\n",
       "    </tr>\n",
       "  </tbody>\n",
       "</table>\n",
       "<p>10000 rows × 2 columns</p>\n",
       "</div>"
      ],
      "text/plain": [
       "                                                    text  label\n",
       "10204  Uh oh! Another gay film. This time it's showin...      0\n",
       "28500  In case you're wondering the buffoonish Loren ...      0\n",
       "34313  A must see film with great dialogues, great mu...      1\n",
       "7195   This film does not fail to engage and move, ev...      1\n",
       "22891  After watching the Next Action Star reality TV...      1\n",
       "...                                                  ...    ...\n",
       "25690  There's really no way to beat around the bush ...      0\n",
       "15506  Okay, I struggled to set aside the fact that i...      0\n",
       "20273  The mind boggles at exactly what about Univers...      0\n",
       "11102  I just saw this movie at the Tribeca Film Fest...      1\n",
       "24390  Ernst Lubitsch gave us wonderful films like De...      1\n",
       "\n",
       "[10000 rows x 2 columns]"
      ]
     },
     "execution_count": 46,
     "metadata": {},
     "output_type": "execute_result"
    }
   ],
   "source": [
    "train"
   ]
  },
  {
   "cell_type": "markdown",
   "id": "104a4b81",
   "metadata": {},
   "source": [
    "Here, the data has two labels ie 0 and 1. 0 stands for \"Negative\" and \"1\" stands for \"Positive\"."
   ]
  },
  {
   "cell_type": "markdown",
   "id": "e7e1c98b",
   "metadata": {},
   "source": [
    "### Data Preprocessing"
   ]
  },
  {
   "cell_type": "code",
   "execution_count": 47,
   "id": "85e361ee",
   "metadata": {},
   "outputs": [
    {
     "data": {
      "text/plain": [
       "text     0\n",
       "label    0\n",
       "dtype: int64"
      ]
     },
     "execution_count": 47,
     "metadata": {},
     "output_type": "execute_result"
    }
   ],
   "source": [
    "train.isnull().sum()"
   ]
  },
  {
   "cell_type": "code",
   "execution_count": 48,
   "id": "816e963b",
   "metadata": {},
   "outputs": [
    {
     "data": {
      "text/plain": [
       "' '"
      ]
     },
     "execution_count": 48,
     "metadata": {},
     "output_type": "execute_result"
    }
   ],
   "source": [
    "\" \""
   ]
  },
  {
   "cell_type": "code",
   "execution_count": 49,
   "id": "5a26f8a0",
   "metadata": {},
   "outputs": [],
   "source": [
    "import numpy as np\n",
    "train.replace(r'^\\s*$', np.nan, regex=True,inplace=True)\n",
    "train.dropna(axis = 0, how = 'any', inplace = True)"
   ]
  },
  {
   "cell_type": "code",
   "execution_count": 50,
   "id": "5b95fec5",
   "metadata": {},
   "outputs": [
    {
     "name": "stdout",
     "output_type": "stream",
     "text": [
      "escape seq removed\n"
     ]
    }
   ],
   "source": [
    "train.replace(to_replace=[r\"\\\\t|\\\\n|\\\\r\", \"\\t|\\n|\\r\"], value=[\"\",\"\"], regex=True, inplace=True)\n",
    "print('escape seq removed')"
   ]
  },
  {
   "cell_type": "code",
   "execution_count": 51,
   "id": "bd00ce9d",
   "metadata": {},
   "outputs": [],
   "source": [
    "import numpy as np\n",
    "train.replace(r'^\\s*$', np.nan, regex=True,inplace=True)\n",
    "train.dropna(axis = 0, how = 'any', inplace = True)"
   ]
  },
  {
   "cell_type": "code",
   "execution_count": 52,
   "id": "578d468f",
   "metadata": {},
   "outputs": [
    {
     "data": {
      "text/html": [
       "<div>\n",
       "<style scoped>\n",
       "    .dataframe tbody tr th:only-of-type {\n",
       "        vertical-align: middle;\n",
       "    }\n",
       "\n",
       "    .dataframe tbody tr th {\n",
       "        vertical-align: top;\n",
       "    }\n",
       "\n",
       "    .dataframe thead th {\n",
       "        text-align: right;\n",
       "    }\n",
       "</style>\n",
       "<table border=\"1\" class=\"dataframe\">\n",
       "  <thead>\n",
       "    <tr style=\"text-align: right;\">\n",
       "      <th></th>\n",
       "      <th>text</th>\n",
       "      <th>label</th>\n",
       "    </tr>\n",
       "  </thead>\n",
       "  <tbody>\n",
       "    <tr>\n",
       "      <th>10204</th>\n",
       "      <td>Uh oh! Another gay film. This time it's showin...</td>\n",
       "      <td>0</td>\n",
       "    </tr>\n",
       "    <tr>\n",
       "      <th>28500</th>\n",
       "      <td>In case you're wondering the buffoonish Loren ...</td>\n",
       "      <td>0</td>\n",
       "    </tr>\n",
       "    <tr>\n",
       "      <th>34313</th>\n",
       "      <td>A must see film with great dialogues, great mu...</td>\n",
       "      <td>1</td>\n",
       "    </tr>\n",
       "    <tr>\n",
       "      <th>7195</th>\n",
       "      <td>This film does not fail to engage and move, ev...</td>\n",
       "      <td>1</td>\n",
       "    </tr>\n",
       "    <tr>\n",
       "      <th>22891</th>\n",
       "      <td>After watching the Next Action Star reality TV...</td>\n",
       "      <td>1</td>\n",
       "    </tr>\n",
       "    <tr>\n",
       "      <th>...</th>\n",
       "      <td>...</td>\n",
       "      <td>...</td>\n",
       "    </tr>\n",
       "    <tr>\n",
       "      <th>25690</th>\n",
       "      <td>There's really no way to beat around the bush ...</td>\n",
       "      <td>0</td>\n",
       "    </tr>\n",
       "    <tr>\n",
       "      <th>15506</th>\n",
       "      <td>Okay, I struggled to set aside the fact that i...</td>\n",
       "      <td>0</td>\n",
       "    </tr>\n",
       "    <tr>\n",
       "      <th>20273</th>\n",
       "      <td>The mind boggles at exactly what about Univers...</td>\n",
       "      <td>0</td>\n",
       "    </tr>\n",
       "    <tr>\n",
       "      <th>11102</th>\n",
       "      <td>I just saw this movie at the Tribeca Film Fest...</td>\n",
       "      <td>1</td>\n",
       "    </tr>\n",
       "    <tr>\n",
       "      <th>24390</th>\n",
       "      <td>Ernst Lubitsch gave us wonderful films like De...</td>\n",
       "      <td>1</td>\n",
       "    </tr>\n",
       "  </tbody>\n",
       "</table>\n",
       "<p>10000 rows × 2 columns</p>\n",
       "</div>"
      ],
      "text/plain": [
       "                                                    text  label\n",
       "10204  Uh oh! Another gay film. This time it's showin...      0\n",
       "28500  In case you're wondering the buffoonish Loren ...      0\n",
       "34313  A must see film with great dialogues, great mu...      1\n",
       "7195   This film does not fail to engage and move, ev...      1\n",
       "22891  After watching the Next Action Star reality TV...      1\n",
       "...                                                  ...    ...\n",
       "25690  There's really no way to beat around the bush ...      0\n",
       "15506  Okay, I struggled to set aside the fact that i...      0\n",
       "20273  The mind boggles at exactly what about Univers...      0\n",
       "11102  I just saw this movie at the Tribeca Film Fest...      1\n",
       "24390  Ernst Lubitsch gave us wonderful films like De...      1\n",
       "\n",
       "[10000 rows x 2 columns]"
      ]
     },
     "execution_count": 52,
     "metadata": {},
     "output_type": "execute_result"
    }
   ],
   "source": [
    "train"
   ]
  },
  {
   "cell_type": "code",
   "execution_count": 53,
   "id": "b668382b",
   "metadata": {},
   "outputs": [
    {
     "name": "stdout",
     "output_type": "stream",
     "text": [
      "non-ascii data removed\n"
     ]
    }
   ],
   "source": [
    "train['text']=train['text'].str.encode('ascii', 'ignore').str.decode('ascii')\n",
    "print('non-ascii data removed')"
   ]
  },
  {
   "cell_type": "code",
   "execution_count": 54,
   "id": "7fb89ae4",
   "metadata": {},
   "outputs": [
    {
     "data": {
      "text/plain": [
       "'!\"#$%&\\'()*+,-./:;<=>?@[\\\\]^_`{|}~'"
      ]
     },
     "execution_count": 54,
     "metadata": {},
     "output_type": "execute_result"
    }
   ],
   "source": [
    "import string\n",
    "string.punctuation"
   ]
  },
  {
   "cell_type": "code",
   "execution_count": 55,
   "id": "9dfbb47f",
   "metadata": {},
   "outputs": [],
   "source": [
    "def remove_punctuations(text):\n",
    "    import string\n",
    "    for punctuation in string.punctuation:\n",
    "        text = text.replace(punctuation, '')\n",
    "    return text\n",
    "train['text']=train['text'].apply(remove_punctuations)"
   ]
  },
  {
   "cell_type": "code",
   "execution_count": 56,
   "id": "44d51137",
   "metadata": {},
   "outputs": [
    {
     "data": {
      "text/html": [
       "<div>\n",
       "<style scoped>\n",
       "    .dataframe tbody tr th:only-of-type {\n",
       "        vertical-align: middle;\n",
       "    }\n",
       "\n",
       "    .dataframe tbody tr th {\n",
       "        vertical-align: top;\n",
       "    }\n",
       "\n",
       "    .dataframe thead th {\n",
       "        text-align: right;\n",
       "    }\n",
       "</style>\n",
       "<table border=\"1\" class=\"dataframe\">\n",
       "  <thead>\n",
       "    <tr style=\"text-align: right;\">\n",
       "      <th></th>\n",
       "      <th>text</th>\n",
       "      <th>label</th>\n",
       "    </tr>\n",
       "  </thead>\n",
       "  <tbody>\n",
       "    <tr>\n",
       "      <th>10204</th>\n",
       "      <td>Uh oh Another gay film This time its showing t...</td>\n",
       "      <td>0</td>\n",
       "    </tr>\n",
       "    <tr>\n",
       "      <th>28500</th>\n",
       "      <td>In case youre wondering the buffoonish Loren C...</td>\n",
       "      <td>0</td>\n",
       "    </tr>\n",
       "    <tr>\n",
       "      <th>34313</th>\n",
       "      <td>A must see film with great dialogues great mus...</td>\n",
       "      <td>1</td>\n",
       "    </tr>\n",
       "    <tr>\n",
       "      <th>7195</th>\n",
       "      <td>This film does not fail to engage and move eve...</td>\n",
       "      <td>1</td>\n",
       "    </tr>\n",
       "    <tr>\n",
       "      <th>22891</th>\n",
       "      <td>After watching the Next Action Star reality TV...</td>\n",
       "      <td>1</td>\n",
       "    </tr>\n",
       "    <tr>\n",
       "      <th>...</th>\n",
       "      <td>...</td>\n",
       "      <td>...</td>\n",
       "    </tr>\n",
       "    <tr>\n",
       "      <th>25690</th>\n",
       "      <td>Theres really no way to beat around the bush i...</td>\n",
       "      <td>0</td>\n",
       "    </tr>\n",
       "    <tr>\n",
       "      <th>15506</th>\n",
       "      <td>Okay I struggled to set aside the fact that in...</td>\n",
       "      <td>0</td>\n",
       "    </tr>\n",
       "    <tr>\n",
       "      <th>20273</th>\n",
       "      <td>The mind boggles at exactly what about Univers...</td>\n",
       "      <td>0</td>\n",
       "    </tr>\n",
       "    <tr>\n",
       "      <th>11102</th>\n",
       "      <td>I just saw this movie at the Tribeca Film Fest...</td>\n",
       "      <td>1</td>\n",
       "    </tr>\n",
       "    <tr>\n",
       "      <th>24390</th>\n",
       "      <td>Ernst Lubitsch gave us wonderful films like De...</td>\n",
       "      <td>1</td>\n",
       "    </tr>\n",
       "  </tbody>\n",
       "</table>\n",
       "<p>10000 rows × 2 columns</p>\n",
       "</div>"
      ],
      "text/plain": [
       "                                                    text  label\n",
       "10204  Uh oh Another gay film This time its showing t...      0\n",
       "28500  In case youre wondering the buffoonish Loren C...      0\n",
       "34313  A must see film with great dialogues great mus...      1\n",
       "7195   This film does not fail to engage and move eve...      1\n",
       "22891  After watching the Next Action Star reality TV...      1\n",
       "...                                                  ...    ...\n",
       "25690  Theres really no way to beat around the bush i...      0\n",
       "15506  Okay I struggled to set aside the fact that in...      0\n",
       "20273  The mind boggles at exactly what about Univers...      0\n",
       "11102  I just saw this movie at the Tribeca Film Fest...      1\n",
       "24390  Ernst Lubitsch gave us wonderful films like De...      1\n",
       "\n",
       "[10000 rows x 2 columns]"
      ]
     },
     "execution_count": 56,
     "metadata": {},
     "output_type": "execute_result"
    }
   ],
   "source": [
    "train"
   ]
  },
  {
   "cell_type": "code",
   "execution_count": 57,
   "id": "4e618914",
   "metadata": {},
   "outputs": [
    {
     "name": "stdout",
     "output_type": "stream",
     "text": [
      "['i', 'me', 'my', 'myself', 'we', 'our', 'ours', 'ourselves', 'you', \"you're\", \"you've\", \"you'll\", \"you'd\", 'your', 'yours', 'yourself', 'yourselves', 'he', 'him', 'his', 'himself', 'she', \"she's\", 'her', 'hers', 'herself', 'it', \"it's\", 'its', 'itself', 'they', 'them', 'their', 'theirs', 'themselves', 'what', 'which', 'who', 'whom', 'this', 'that', \"that'll\", 'these', 'those', 'am', 'is', 'are', 'was', 'were', 'be', 'been', 'being', 'have', 'has', 'had', 'having', 'do', 'does', 'did', 'doing', 'a', 'an', 'the', 'and', 'but', 'if', 'or', 'because', 'as', 'until', 'while', 'of', 'at', 'by', 'for', 'with', 'about', 'against', 'between', 'into', 'through', 'during', 'before', 'after', 'above', 'below', 'to', 'from', 'up', 'down', 'in', 'out', 'on', 'off', 'over', 'under', 'again', 'further', 'then', 'once', 'here', 'there', 'when', 'where', 'why', 'how', 'all', 'any', 'both', 'each', 'few', 'more', 'most', 'other', 'some', 'such', 'no', 'nor', 'not', 'only', 'own', 'same', 'so', 'than', 'too', 'very', 's', 't', 'can', 'will', 'just', 'don', \"don't\", 'should', \"should've\", 'now', 'd', 'll', 'm', 'o', 're', 've', 'y', 'ain', 'aren', \"aren't\", 'couldn', \"couldn't\", 'didn', \"didn't\", 'doesn', \"doesn't\", 'hadn', \"hadn't\", 'hasn', \"hasn't\", 'haven', \"haven't\", 'isn', \"isn't\", 'ma', 'mightn', \"mightn't\", 'mustn', \"mustn't\", 'needn', \"needn't\", 'shan', \"shan't\", 'shouldn', \"shouldn't\", 'wasn', \"wasn't\", 'weren', \"weren't\", 'won', \"won't\", 'wouldn', \"wouldn't\"]\n"
     ]
    }
   ],
   "source": [
    "import nltk\n",
    "from nltk.corpus import stopwords\n",
    "print(stopwords.words('english'))"
   ]
  },
  {
   "cell_type": "code",
   "execution_count": 58,
   "id": "d1e93f5c",
   "metadata": {},
   "outputs": [],
   "source": [
    "stopword_list = nltk.corpus.stopwords.words('english')\n",
    "stopword_list.remove('no')\n",
    "stopword_list.remove('not')"
   ]
  },
  {
   "cell_type": "code",
   "execution_count": 59,
   "id": "e587661a",
   "metadata": {},
   "outputs": [],
   "source": [
    "def custom_remove_stopwords(text, is_lower_case=False):\n",
    "    tokens = tokenizer.tokenize(text)\n",
    "    tokens = [token.strip() for token in tokens]\n",
    "    if is_lower_case:\n",
    "        filtered_tokens = [token for token in tokens if token not in stopword_list]\n",
    "    else:\n",
    "        filtered_tokens = [token for token in tokens if token.lower() not in stopword_list]\n",
    "    filtered_text = ' '.join(filtered_tokens)    \n",
    "    return filtered_text"
   ]
  },
  {
   "cell_type": "code",
   "execution_count": 60,
   "id": "6e46a380",
   "metadata": {},
   "outputs": [],
   "source": [
    "train['text']=train['text'].apply(custom_remove_stopwords)"
   ]
  },
  {
   "cell_type": "code",
   "execution_count": 61,
   "id": "34d03d7c",
   "metadata": {},
   "outputs": [
    {
     "data": {
      "text/html": [
       "<div>\n",
       "<style scoped>\n",
       "    .dataframe tbody tr th:only-of-type {\n",
       "        vertical-align: middle;\n",
       "    }\n",
       "\n",
       "    .dataframe tbody tr th {\n",
       "        vertical-align: top;\n",
       "    }\n",
       "\n",
       "    .dataframe thead th {\n",
       "        text-align: right;\n",
       "    }\n",
       "</style>\n",
       "<table border=\"1\" class=\"dataframe\">\n",
       "  <thead>\n",
       "    <tr style=\"text-align: right;\">\n",
       "      <th></th>\n",
       "      <th>text</th>\n",
       "      <th>label</th>\n",
       "    </tr>\n",
       "  </thead>\n",
       "  <tbody>\n",
       "    <tr>\n",
       "      <th>10204</th>\n",
       "      <td>Uh oh Another gay film time showing black side...</td>\n",
       "      <td>0</td>\n",
       "    </tr>\n",
       "    <tr>\n",
       "      <th>28500</th>\n",
       "      <td>case youre wondering buffoonish Loren Cn Crypt...</td>\n",
       "      <td>0</td>\n",
       "    </tr>\n",
       "    <tr>\n",
       "      <th>34313</th>\n",
       "      <td>must see film great dialogues great music grea...</td>\n",
       "      <td>1</td>\n",
       "    </tr>\n",
       "    <tr>\n",
       "      <th>7195</th>\n",
       "      <td>film not fail engage move even 2008 audience f...</td>\n",
       "      <td>1</td>\n",
       "    </tr>\n",
       "    <tr>\n",
       "      <th>22891</th>\n",
       "      <td>watching Next Action Star reality TV series pl...</td>\n",
       "      <td>1</td>\n",
       "    </tr>\n",
       "    <tr>\n",
       "      <th>...</th>\n",
       "      <td>...</td>\n",
       "      <td>...</td>\n",
       "    </tr>\n",
       "    <tr>\n",
       "      <th>25690</th>\n",
       "      <td>Theres really no way beat around bush saying L...</td>\n",
       "      <td>0</td>\n",
       "    </tr>\n",
       "    <tr>\n",
       "      <th>15506</th>\n",
       "      <td>Okay struggled set aside fact selling EVP real...</td>\n",
       "      <td>0</td>\n",
       "    </tr>\n",
       "    <tr>\n",
       "      <th>20273</th>\n",
       "      <td>mind boggles exactly Universal Soldier merited...</td>\n",
       "      <td>0</td>\n",
       "    </tr>\n",
       "    <tr>\n",
       "      <th>11102</th>\n",
       "      <td>saw movie Tribeca Film Festival say thought am...</td>\n",
       "      <td>1</td>\n",
       "    </tr>\n",
       "    <tr>\n",
       "      <th>24390</th>\n",
       "      <td>Ernst Lubitsch gave us wonderful films like De...</td>\n",
       "      <td>1</td>\n",
       "    </tr>\n",
       "  </tbody>\n",
       "</table>\n",
       "<p>10000 rows × 2 columns</p>\n",
       "</div>"
      ],
      "text/plain": [
       "                                                    text  label\n",
       "10204  Uh oh Another gay film time showing black side...      0\n",
       "28500  case youre wondering buffoonish Loren Cn Crypt...      0\n",
       "34313  must see film great dialogues great music grea...      1\n",
       "7195   film not fail engage move even 2008 audience f...      1\n",
       "22891  watching Next Action Star reality TV series pl...      1\n",
       "...                                                  ...    ...\n",
       "25690  Theres really no way beat around bush saying L...      0\n",
       "15506  Okay struggled set aside fact selling EVP real...      0\n",
       "20273  mind boggles exactly Universal Soldier merited...      0\n",
       "11102  saw movie Tribeca Film Festival say thought am...      1\n",
       "24390  Ernst Lubitsch gave us wonderful films like De...      1\n",
       "\n",
       "[10000 rows x 2 columns]"
      ]
     },
     "execution_count": 61,
     "metadata": {},
     "output_type": "execute_result"
    }
   ],
   "source": [
    "train"
   ]
  },
  {
   "cell_type": "code",
   "execution_count": 62,
   "id": "59fd0d56",
   "metadata": {},
   "outputs": [],
   "source": [
    "def remove_special_characters(text):\n",
    "    text = re.sub('[^a-zA-z0-9\\s]', '', text)\n",
    "    return text"
   ]
  },
  {
   "cell_type": "code",
   "execution_count": 63,
   "id": "5ab5ab13",
   "metadata": {},
   "outputs": [],
   "source": [
    "train['text']=train['text'].apply(remove_special_characters)"
   ]
  },
  {
   "cell_type": "code",
   "execution_count": 64,
   "id": "62fcb586",
   "metadata": {},
   "outputs": [],
   "source": [
    "def remove_html(text):\n",
    "    import re\n",
    "    html_pattern = re.compile('<.*?>')\n",
    "    return html_pattern.sub(r' ', text)"
   ]
  },
  {
   "cell_type": "code",
   "execution_count": 65,
   "id": "511e0789",
   "metadata": {},
   "outputs": [],
   "source": [
    "train['text']=train['text'].apply(remove_html)"
   ]
  },
  {
   "cell_type": "code",
   "execution_count": 66,
   "id": "376a2ecd",
   "metadata": {},
   "outputs": [],
   "source": [
    "def remove_URL(text):\n",
    "    url = re.compile(r'https?://\\S+|www\\.\\S+')\n",
    "    return url.sub(r' ',text)"
   ]
  },
  {
   "cell_type": "code",
   "execution_count": 67,
   "id": "8e99e6cc",
   "metadata": {},
   "outputs": [],
   "source": [
    "train['text']=train['text'].apply(remove_URL)"
   ]
  },
  {
   "cell_type": "code",
   "execution_count": 68,
   "id": "56b759ca",
   "metadata": {},
   "outputs": [],
   "source": [
    "def remove_numbers(text):\n",
    "    \"\"\" Removes integers \"\"\"\n",
    "    text = ''.join([i for i in text if not i.isdigit()])         \n",
    "    return text"
   ]
  },
  {
   "cell_type": "code",
   "execution_count": 69,
   "id": "36c42971",
   "metadata": {},
   "outputs": [],
   "source": [
    "train['text']=train['text'].apply(remove_numbers)"
   ]
  },
  {
   "cell_type": "code",
   "execution_count": 70,
   "id": "b50d400c",
   "metadata": {},
   "outputs": [],
   "source": [
    "def cleanse(word):\n",
    "    rx = re.compile(r'\\D*\\d')\n",
    "    if rx.match(word):\n",
    "        return ''\n",
    "    return word\n",
    "def remove_alphanumeric(strings):\n",
    "    nstrings = [\" \".join(filter(None, (\n",
    "    cleanse(word) for word in string.split()))) \n",
    "    for string in strings.split()]\n",
    "    str1 = ' '.join(nstrings)\n",
    "    return str1"
   ]
  },
  {
   "cell_type": "code",
   "execution_count": 71,
   "id": "1c4f2b98",
   "metadata": {},
   "outputs": [],
   "source": [
    "train['text']=train['text'].apply(remove_alphanumeric)"
   ]
  },
  {
   "cell_type": "code",
   "execution_count": 72,
   "id": "14f3d2a3",
   "metadata": {},
   "outputs": [
    {
     "data": {
      "text/html": [
       "<div>\n",
       "<style scoped>\n",
       "    .dataframe tbody tr th:only-of-type {\n",
       "        vertical-align: middle;\n",
       "    }\n",
       "\n",
       "    .dataframe tbody tr th {\n",
       "        vertical-align: top;\n",
       "    }\n",
       "\n",
       "    .dataframe thead th {\n",
       "        text-align: right;\n",
       "    }\n",
       "</style>\n",
       "<table border=\"1\" class=\"dataframe\">\n",
       "  <thead>\n",
       "    <tr style=\"text-align: right;\">\n",
       "      <th></th>\n",
       "      <th>text</th>\n",
       "      <th>label</th>\n",
       "    </tr>\n",
       "  </thead>\n",
       "  <tbody>\n",
       "    <tr>\n",
       "      <th>10204</th>\n",
       "      <td>Uh oh Another gay film time showing black side...</td>\n",
       "      <td>0</td>\n",
       "    </tr>\n",
       "    <tr>\n",
       "      <th>28500</th>\n",
       "      <td>case youre wondering buffoonish Loren Cn Crypt...</td>\n",
       "      <td>0</td>\n",
       "    </tr>\n",
       "    <tr>\n",
       "      <th>34313</th>\n",
       "      <td>must see film great dialogues great music grea...</td>\n",
       "      <td>1</td>\n",
       "    </tr>\n",
       "    <tr>\n",
       "      <th>7195</th>\n",
       "      <td>film not fail engage move even audience famili...</td>\n",
       "      <td>1</td>\n",
       "    </tr>\n",
       "    <tr>\n",
       "      <th>22891</th>\n",
       "      <td>watching Next Action Star reality TV series pl...</td>\n",
       "      <td>1</td>\n",
       "    </tr>\n",
       "    <tr>\n",
       "      <th>...</th>\n",
       "      <td>...</td>\n",
       "      <td>...</td>\n",
       "    </tr>\n",
       "    <tr>\n",
       "      <th>25690</th>\n",
       "      <td>Theres really no way beat around bush saying L...</td>\n",
       "      <td>0</td>\n",
       "    </tr>\n",
       "    <tr>\n",
       "      <th>15506</th>\n",
       "      <td>Okay struggled set aside fact selling EVP real...</td>\n",
       "      <td>0</td>\n",
       "    </tr>\n",
       "    <tr>\n",
       "      <th>20273</th>\n",
       "      <td>mind boggles exactly Universal Soldier merited...</td>\n",
       "      <td>0</td>\n",
       "    </tr>\n",
       "    <tr>\n",
       "      <th>11102</th>\n",
       "      <td>saw movie Tribeca Film Festival say thought am...</td>\n",
       "      <td>1</td>\n",
       "    </tr>\n",
       "    <tr>\n",
       "      <th>24390</th>\n",
       "      <td>Ernst Lubitsch gave us wonderful films like De...</td>\n",
       "      <td>1</td>\n",
       "    </tr>\n",
       "  </tbody>\n",
       "</table>\n",
       "<p>10000 rows × 2 columns</p>\n",
       "</div>"
      ],
      "text/plain": [
       "                                                    text  label\n",
       "10204  Uh oh Another gay film time showing black side...      0\n",
       "28500  case youre wondering buffoonish Loren Cn Crypt...      0\n",
       "34313  must see film great dialogues great music grea...      1\n",
       "7195   film not fail engage move even audience famili...      1\n",
       "22891  watching Next Action Star reality TV series pl...      1\n",
       "...                                                  ...    ...\n",
       "25690  Theres really no way beat around bush saying L...      0\n",
       "15506  Okay struggled set aside fact selling EVP real...      0\n",
       "20273  mind boggles exactly Universal Soldier merited...      0\n",
       "11102  saw movie Tribeca Film Festival say thought am...      1\n",
       "24390  Ernst Lubitsch gave us wonderful films like De...      1\n",
       "\n",
       "[10000 rows x 2 columns]"
      ]
     },
     "execution_count": 72,
     "metadata": {},
     "output_type": "execute_result"
    }
   ],
   "source": [
    "train"
   ]
  },
  {
   "cell_type": "code",
   "execution_count": 37,
   "id": "0f934259",
   "metadata": {},
   "outputs": [],
   "source": [
    "def lemmatize_text(text):\n",
    "    text = nlp(text)\n",
    "    text = ' '.join([word.lemma_ if word.lemma_ != '-PRON-' else word.text for word in text])\n",
    "    return text"
   ]
  },
  {
   "cell_type": "code",
   "execution_count": 38,
   "id": "89c7939d",
   "metadata": {},
   "outputs": [],
   "source": [
    "train['text']=train['text'].apply(lemmatize_text)"
   ]
  },
  {
   "cell_type": "code",
   "execution_count": 73,
   "id": "6df0e33e",
   "metadata": {},
   "outputs": [],
   "source": [
    "train['sentiment'] = train['text'].apply(lambda tweet: TextBlob(tweet).sentiment)"
   ]
  },
  {
   "cell_type": "code",
   "execution_count": 74,
   "id": "56aabe38",
   "metadata": {},
   "outputs": [
    {
     "data": {
      "text/html": [
       "<div>\n",
       "<style scoped>\n",
       "    .dataframe tbody tr th:only-of-type {\n",
       "        vertical-align: middle;\n",
       "    }\n",
       "\n",
       "    .dataframe tbody tr th {\n",
       "        vertical-align: top;\n",
       "    }\n",
       "\n",
       "    .dataframe thead th {\n",
       "        text-align: right;\n",
       "    }\n",
       "</style>\n",
       "<table border=\"1\" class=\"dataframe\">\n",
       "  <thead>\n",
       "    <tr style=\"text-align: right;\">\n",
       "      <th></th>\n",
       "      <th>text</th>\n",
       "      <th>label</th>\n",
       "      <th>sentiment</th>\n",
       "    </tr>\n",
       "  </thead>\n",
       "  <tbody>\n",
       "    <tr>\n",
       "      <th>10204</th>\n",
       "      <td>Uh oh Another gay film time showing black side...</td>\n",
       "      <td>0</td>\n",
       "      <td>(0.0831932773109244, 0.39383753501400554)</td>\n",
       "    </tr>\n",
       "    <tr>\n",
       "      <th>28500</th>\n",
       "      <td>case youre wondering buffoonish Loren Cn Crypt...</td>\n",
       "      <td>0</td>\n",
       "      <td>(-0.4166666666666667, 0.6095238095238096)</td>\n",
       "    </tr>\n",
       "    <tr>\n",
       "      <th>34313</th>\n",
       "      <td>must see film great dialogues great music grea...</td>\n",
       "      <td>1</td>\n",
       "      <td>(0.39841269841269844, 0.6341269841269841)</td>\n",
       "    </tr>\n",
       "    <tr>\n",
       "      <th>7195</th>\n",
       "      <td>film not fail engage move even audience famili...</td>\n",
       "      <td>1</td>\n",
       "      <td>(0.2032271944922547, 0.4665232358003442)</td>\n",
       "    </tr>\n",
       "    <tr>\n",
       "      <th>22891</th>\n",
       "      <td>watching Next Action Star reality TV series pl...</td>\n",
       "      <td>1</td>\n",
       "      <td>(0.20686456400742112, 0.5181199752628324)</td>\n",
       "    </tr>\n",
       "    <tr>\n",
       "      <th>...</th>\n",
       "      <td>...</td>\n",
       "      <td>...</td>\n",
       "      <td>...</td>\n",
       "    </tr>\n",
       "    <tr>\n",
       "      <th>25690</th>\n",
       "      <td>Theres really no way beat around bush saying L...</td>\n",
       "      <td>0</td>\n",
       "      <td>(-0.08806216931216931, 0.3828703703703704)</td>\n",
       "    </tr>\n",
       "    <tr>\n",
       "      <th>15506</th>\n",
       "      <td>Okay struggled set aside fact selling EVP real...</td>\n",
       "      <td>0</td>\n",
       "      <td>(0.09909090909090905, 0.4511111111111112)</td>\n",
       "    </tr>\n",
       "    <tr>\n",
       "      <th>20273</th>\n",
       "      <td>mind boggles exactly Universal Soldier merited...</td>\n",
       "      <td>0</td>\n",
       "      <td>(0.09144283746556475, 0.452347337006428)</td>\n",
       "    </tr>\n",
       "    <tr>\n",
       "      <th>11102</th>\n",
       "      <td>saw movie Tribeca Film Festival say thought am...</td>\n",
       "      <td>1</td>\n",
       "      <td>(0.390909090909091, 0.5636363636363636)</td>\n",
       "    </tr>\n",
       "    <tr>\n",
       "      <th>24390</th>\n",
       "      <td>Ernst Lubitsch gave us wonderful films like De...</td>\n",
       "      <td>1</td>\n",
       "      <td>(0.33151260504201685, 0.7158263305322129)</td>\n",
       "    </tr>\n",
       "  </tbody>\n",
       "</table>\n",
       "<p>10000 rows × 3 columns</p>\n",
       "</div>"
      ],
      "text/plain": [
       "                                                    text  label  \\\n",
       "10204  Uh oh Another gay film time showing black side...      0   \n",
       "28500  case youre wondering buffoonish Loren Cn Crypt...      0   \n",
       "34313  must see film great dialogues great music grea...      1   \n",
       "7195   film not fail engage move even audience famili...      1   \n",
       "22891  watching Next Action Star reality TV series pl...      1   \n",
       "...                                                  ...    ...   \n",
       "25690  Theres really no way beat around bush saying L...      0   \n",
       "15506  Okay struggled set aside fact selling EVP real...      0   \n",
       "20273  mind boggles exactly Universal Soldier merited...      0   \n",
       "11102  saw movie Tribeca Film Festival say thought am...      1   \n",
       "24390  Ernst Lubitsch gave us wonderful films like De...      1   \n",
       "\n",
       "                                        sentiment  \n",
       "10204   (0.0831932773109244, 0.39383753501400554)  \n",
       "28500   (-0.4166666666666667, 0.6095238095238096)  \n",
       "34313   (0.39841269841269844, 0.6341269841269841)  \n",
       "7195     (0.2032271944922547, 0.4665232358003442)  \n",
       "22891   (0.20686456400742112, 0.5181199752628324)  \n",
       "...                                           ...  \n",
       "25690  (-0.08806216931216931, 0.3828703703703704)  \n",
       "15506   (0.09909090909090905, 0.4511111111111112)  \n",
       "20273    (0.09144283746556475, 0.452347337006428)  \n",
       "11102     (0.390909090909091, 0.5636363636363636)  \n",
       "24390   (0.33151260504201685, 0.7158263305322129)  \n",
       "\n",
       "[10000 rows x 3 columns]"
      ]
     },
     "execution_count": 74,
     "metadata": {},
     "output_type": "execute_result"
    }
   ],
   "source": [
    "train"
   ]
  },
  {
   "cell_type": "code",
   "execution_count": 75,
   "id": "23abca0a",
   "metadata": {},
   "outputs": [],
   "source": [
    "sentiment_series = train['sentiment'].tolist()"
   ]
  },
  {
   "cell_type": "code",
   "execution_count": 76,
   "id": "0dd0f3d9",
   "metadata": {},
   "outputs": [],
   "source": [
    "columns = ['polarity', 'subjectivity']\n",
    "df1 = pd.DataFrame(sentiment_series, columns=columns, index=train.index)"
   ]
  },
  {
   "cell_type": "code",
   "execution_count": 77,
   "id": "5dfa79cf",
   "metadata": {},
   "outputs": [
    {
     "data": {
      "text/html": [
       "<div>\n",
       "<style scoped>\n",
       "    .dataframe tbody tr th:only-of-type {\n",
       "        vertical-align: middle;\n",
       "    }\n",
       "\n",
       "    .dataframe tbody tr th {\n",
       "        vertical-align: top;\n",
       "    }\n",
       "\n",
       "    .dataframe thead th {\n",
       "        text-align: right;\n",
       "    }\n",
       "</style>\n",
       "<table border=\"1\" class=\"dataframe\">\n",
       "  <thead>\n",
       "    <tr style=\"text-align: right;\">\n",
       "      <th></th>\n",
       "      <th>polarity</th>\n",
       "      <th>subjectivity</th>\n",
       "    </tr>\n",
       "  </thead>\n",
       "  <tbody>\n",
       "    <tr>\n",
       "      <th>10204</th>\n",
       "      <td>0.083193</td>\n",
       "      <td>0.393838</td>\n",
       "    </tr>\n",
       "    <tr>\n",
       "      <th>28500</th>\n",
       "      <td>-0.416667</td>\n",
       "      <td>0.609524</td>\n",
       "    </tr>\n",
       "    <tr>\n",
       "      <th>34313</th>\n",
       "      <td>0.398413</td>\n",
       "      <td>0.634127</td>\n",
       "    </tr>\n",
       "    <tr>\n",
       "      <th>7195</th>\n",
       "      <td>0.203227</td>\n",
       "      <td>0.466523</td>\n",
       "    </tr>\n",
       "    <tr>\n",
       "      <th>22891</th>\n",
       "      <td>0.206865</td>\n",
       "      <td>0.518120</td>\n",
       "    </tr>\n",
       "    <tr>\n",
       "      <th>...</th>\n",
       "      <td>...</td>\n",
       "      <td>...</td>\n",
       "    </tr>\n",
       "    <tr>\n",
       "      <th>25690</th>\n",
       "      <td>-0.088062</td>\n",
       "      <td>0.382870</td>\n",
       "    </tr>\n",
       "    <tr>\n",
       "      <th>15506</th>\n",
       "      <td>0.099091</td>\n",
       "      <td>0.451111</td>\n",
       "    </tr>\n",
       "    <tr>\n",
       "      <th>20273</th>\n",
       "      <td>0.091443</td>\n",
       "      <td>0.452347</td>\n",
       "    </tr>\n",
       "    <tr>\n",
       "      <th>11102</th>\n",
       "      <td>0.390909</td>\n",
       "      <td>0.563636</td>\n",
       "    </tr>\n",
       "    <tr>\n",
       "      <th>24390</th>\n",
       "      <td>0.331513</td>\n",
       "      <td>0.715826</td>\n",
       "    </tr>\n",
       "  </tbody>\n",
       "</table>\n",
       "<p>10000 rows × 2 columns</p>\n",
       "</div>"
      ],
      "text/plain": [
       "       polarity  subjectivity\n",
       "10204  0.083193      0.393838\n",
       "28500 -0.416667      0.609524\n",
       "34313  0.398413      0.634127\n",
       "7195   0.203227      0.466523\n",
       "22891  0.206865      0.518120\n",
       "...         ...           ...\n",
       "25690 -0.088062      0.382870\n",
       "15506  0.099091      0.451111\n",
       "20273  0.091443      0.452347\n",
       "11102  0.390909      0.563636\n",
       "24390  0.331513      0.715826\n",
       "\n",
       "[10000 rows x 2 columns]"
      ]
     },
     "execution_count": 77,
     "metadata": {},
     "output_type": "execute_result"
    }
   ],
   "source": [
    "df1"
   ]
  },
  {
   "cell_type": "code",
   "execution_count": 78,
   "id": "cd3e76b8",
   "metadata": {},
   "outputs": [],
   "source": [
    "result = pd.concat([train,df1],axis=1)"
   ]
  },
  {
   "cell_type": "code",
   "execution_count": 79,
   "id": "59259f22",
   "metadata": {},
   "outputs": [],
   "source": [
    "result.drop(['sentiment'],axis=1,inplace=True)"
   ]
  },
  {
   "cell_type": "code",
   "execution_count": 80,
   "id": "0b1f5d3b",
   "metadata": {},
   "outputs": [],
   "source": [
    "result.loc[result['polarity']>=0.3, 'Sentiment'] = \"Positive\"\n",
    "result.loc[result['polarity']<0.3, 'Sentiment'] = \"Negative\""
   ]
  },
  {
   "cell_type": "code",
   "execution_count": 81,
   "id": "fb524d12",
   "metadata": {},
   "outputs": [
    {
     "data": {
      "text/html": [
       "<div>\n",
       "<style scoped>\n",
       "    .dataframe tbody tr th:only-of-type {\n",
       "        vertical-align: middle;\n",
       "    }\n",
       "\n",
       "    .dataframe tbody tr th {\n",
       "        vertical-align: top;\n",
       "    }\n",
       "\n",
       "    .dataframe thead th {\n",
       "        text-align: right;\n",
       "    }\n",
       "</style>\n",
       "<table border=\"1\" class=\"dataframe\">\n",
       "  <thead>\n",
       "    <tr style=\"text-align: right;\">\n",
       "      <th></th>\n",
       "      <th>text</th>\n",
       "      <th>label</th>\n",
       "      <th>polarity</th>\n",
       "      <th>subjectivity</th>\n",
       "      <th>Sentiment</th>\n",
       "    </tr>\n",
       "  </thead>\n",
       "  <tbody>\n",
       "    <tr>\n",
       "      <th>10204</th>\n",
       "      <td>Uh oh Another gay film time showing black side...</td>\n",
       "      <td>0</td>\n",
       "      <td>0.083193</td>\n",
       "      <td>0.393838</td>\n",
       "      <td>Negative</td>\n",
       "    </tr>\n",
       "    <tr>\n",
       "      <th>28500</th>\n",
       "      <td>case youre wondering buffoonish Loren Cn Crypt...</td>\n",
       "      <td>0</td>\n",
       "      <td>-0.416667</td>\n",
       "      <td>0.609524</td>\n",
       "      <td>Negative</td>\n",
       "    </tr>\n",
       "    <tr>\n",
       "      <th>34313</th>\n",
       "      <td>must see film great dialogues great music grea...</td>\n",
       "      <td>1</td>\n",
       "      <td>0.398413</td>\n",
       "      <td>0.634127</td>\n",
       "      <td>Positive</td>\n",
       "    </tr>\n",
       "    <tr>\n",
       "      <th>7195</th>\n",
       "      <td>film not fail engage move even audience famili...</td>\n",
       "      <td>1</td>\n",
       "      <td>0.203227</td>\n",
       "      <td>0.466523</td>\n",
       "      <td>Negative</td>\n",
       "    </tr>\n",
       "    <tr>\n",
       "      <th>22891</th>\n",
       "      <td>watching Next Action Star reality TV series pl...</td>\n",
       "      <td>1</td>\n",
       "      <td>0.206865</td>\n",
       "      <td>0.518120</td>\n",
       "      <td>Negative</td>\n",
       "    </tr>\n",
       "    <tr>\n",
       "      <th>...</th>\n",
       "      <td>...</td>\n",
       "      <td>...</td>\n",
       "      <td>...</td>\n",
       "      <td>...</td>\n",
       "      <td>...</td>\n",
       "    </tr>\n",
       "    <tr>\n",
       "      <th>25690</th>\n",
       "      <td>Theres really no way beat around bush saying L...</td>\n",
       "      <td>0</td>\n",
       "      <td>-0.088062</td>\n",
       "      <td>0.382870</td>\n",
       "      <td>Negative</td>\n",
       "    </tr>\n",
       "    <tr>\n",
       "      <th>15506</th>\n",
       "      <td>Okay struggled set aside fact selling EVP real...</td>\n",
       "      <td>0</td>\n",
       "      <td>0.099091</td>\n",
       "      <td>0.451111</td>\n",
       "      <td>Negative</td>\n",
       "    </tr>\n",
       "    <tr>\n",
       "      <th>20273</th>\n",
       "      <td>mind boggles exactly Universal Soldier merited...</td>\n",
       "      <td>0</td>\n",
       "      <td>0.091443</td>\n",
       "      <td>0.452347</td>\n",
       "      <td>Negative</td>\n",
       "    </tr>\n",
       "    <tr>\n",
       "      <th>11102</th>\n",
       "      <td>saw movie Tribeca Film Festival say thought am...</td>\n",
       "      <td>1</td>\n",
       "      <td>0.390909</td>\n",
       "      <td>0.563636</td>\n",
       "      <td>Positive</td>\n",
       "    </tr>\n",
       "    <tr>\n",
       "      <th>24390</th>\n",
       "      <td>Ernst Lubitsch gave us wonderful films like De...</td>\n",
       "      <td>1</td>\n",
       "      <td>0.331513</td>\n",
       "      <td>0.715826</td>\n",
       "      <td>Positive</td>\n",
       "    </tr>\n",
       "  </tbody>\n",
       "</table>\n",
       "<p>10000 rows × 5 columns</p>\n",
       "</div>"
      ],
      "text/plain": [
       "                                                    text  label  polarity  \\\n",
       "10204  Uh oh Another gay film time showing black side...      0  0.083193   \n",
       "28500  case youre wondering buffoonish Loren Cn Crypt...      0 -0.416667   \n",
       "34313  must see film great dialogues great music grea...      1  0.398413   \n",
       "7195   film not fail engage move even audience famili...      1  0.203227   \n",
       "22891  watching Next Action Star reality TV series pl...      1  0.206865   \n",
       "...                                                  ...    ...       ...   \n",
       "25690  Theres really no way beat around bush saying L...      0 -0.088062   \n",
       "15506  Okay struggled set aside fact selling EVP real...      0  0.099091   \n",
       "20273  mind boggles exactly Universal Soldier merited...      0  0.091443   \n",
       "11102  saw movie Tribeca Film Festival say thought am...      1  0.390909   \n",
       "24390  Ernst Lubitsch gave us wonderful films like De...      1  0.331513   \n",
       "\n",
       "       subjectivity Sentiment  \n",
       "10204      0.393838  Negative  \n",
       "28500      0.609524  Negative  \n",
       "34313      0.634127  Positive  \n",
       "7195       0.466523  Negative  \n",
       "22891      0.518120  Negative  \n",
       "...             ...       ...  \n",
       "25690      0.382870  Negative  \n",
       "15506      0.451111  Negative  \n",
       "20273      0.452347  Negative  \n",
       "11102      0.563636  Positive  \n",
       "24390      0.715826  Positive  \n",
       "\n",
       "[10000 rows x 5 columns]"
      ]
     },
     "execution_count": 81,
     "metadata": {},
     "output_type": "execute_result"
    }
   ],
   "source": [
    "result"
   ]
  },
  {
   "cell_type": "code",
   "execution_count": 82,
   "id": "38d307c5",
   "metadata": {},
   "outputs": [],
   "source": [
    "result.loc[result['label']==1, 'Sentiment_label'] = 1\n",
    "result.loc[result['label']==0, 'Sentiment_label'] = 0"
   ]
  },
  {
   "cell_type": "code",
   "execution_count": 83,
   "id": "641f0bfe",
   "metadata": {},
   "outputs": [
    {
     "data": {
      "text/html": [
       "<div>\n",
       "<style scoped>\n",
       "    .dataframe tbody tr th:only-of-type {\n",
       "        vertical-align: middle;\n",
       "    }\n",
       "\n",
       "    .dataframe tbody tr th {\n",
       "        vertical-align: top;\n",
       "    }\n",
       "\n",
       "    .dataframe thead th {\n",
       "        text-align: right;\n",
       "    }\n",
       "</style>\n",
       "<table border=\"1\" class=\"dataframe\">\n",
       "  <thead>\n",
       "    <tr style=\"text-align: right;\">\n",
       "      <th></th>\n",
       "      <th>text</th>\n",
       "      <th>label</th>\n",
       "      <th>polarity</th>\n",
       "      <th>subjectivity</th>\n",
       "      <th>Sentiment</th>\n",
       "      <th>Sentiment_label</th>\n",
       "    </tr>\n",
       "  </thead>\n",
       "  <tbody>\n",
       "    <tr>\n",
       "      <th>10204</th>\n",
       "      <td>Uh oh Another gay film time showing black side...</td>\n",
       "      <td>0</td>\n",
       "      <td>0.083193</td>\n",
       "      <td>0.393838</td>\n",
       "      <td>Negative</td>\n",
       "      <td>0.0</td>\n",
       "    </tr>\n",
       "    <tr>\n",
       "      <th>28500</th>\n",
       "      <td>case youre wondering buffoonish Loren Cn Crypt...</td>\n",
       "      <td>0</td>\n",
       "      <td>-0.416667</td>\n",
       "      <td>0.609524</td>\n",
       "      <td>Negative</td>\n",
       "      <td>0.0</td>\n",
       "    </tr>\n",
       "    <tr>\n",
       "      <th>34313</th>\n",
       "      <td>must see film great dialogues great music grea...</td>\n",
       "      <td>1</td>\n",
       "      <td>0.398413</td>\n",
       "      <td>0.634127</td>\n",
       "      <td>Positive</td>\n",
       "      <td>1.0</td>\n",
       "    </tr>\n",
       "    <tr>\n",
       "      <th>7195</th>\n",
       "      <td>film not fail engage move even audience famili...</td>\n",
       "      <td>1</td>\n",
       "      <td>0.203227</td>\n",
       "      <td>0.466523</td>\n",
       "      <td>Negative</td>\n",
       "      <td>1.0</td>\n",
       "    </tr>\n",
       "    <tr>\n",
       "      <th>22891</th>\n",
       "      <td>watching Next Action Star reality TV series pl...</td>\n",
       "      <td>1</td>\n",
       "      <td>0.206865</td>\n",
       "      <td>0.518120</td>\n",
       "      <td>Negative</td>\n",
       "      <td>1.0</td>\n",
       "    </tr>\n",
       "    <tr>\n",
       "      <th>...</th>\n",
       "      <td>...</td>\n",
       "      <td>...</td>\n",
       "      <td>...</td>\n",
       "      <td>...</td>\n",
       "      <td>...</td>\n",
       "      <td>...</td>\n",
       "    </tr>\n",
       "    <tr>\n",
       "      <th>25690</th>\n",
       "      <td>Theres really no way beat around bush saying L...</td>\n",
       "      <td>0</td>\n",
       "      <td>-0.088062</td>\n",
       "      <td>0.382870</td>\n",
       "      <td>Negative</td>\n",
       "      <td>0.0</td>\n",
       "    </tr>\n",
       "    <tr>\n",
       "      <th>15506</th>\n",
       "      <td>Okay struggled set aside fact selling EVP real...</td>\n",
       "      <td>0</td>\n",
       "      <td>0.099091</td>\n",
       "      <td>0.451111</td>\n",
       "      <td>Negative</td>\n",
       "      <td>0.0</td>\n",
       "    </tr>\n",
       "    <tr>\n",
       "      <th>20273</th>\n",
       "      <td>mind boggles exactly Universal Soldier merited...</td>\n",
       "      <td>0</td>\n",
       "      <td>0.091443</td>\n",
       "      <td>0.452347</td>\n",
       "      <td>Negative</td>\n",
       "      <td>0.0</td>\n",
       "    </tr>\n",
       "    <tr>\n",
       "      <th>11102</th>\n",
       "      <td>saw movie Tribeca Film Festival say thought am...</td>\n",
       "      <td>1</td>\n",
       "      <td>0.390909</td>\n",
       "      <td>0.563636</td>\n",
       "      <td>Positive</td>\n",
       "      <td>1.0</td>\n",
       "    </tr>\n",
       "    <tr>\n",
       "      <th>24390</th>\n",
       "      <td>Ernst Lubitsch gave us wonderful films like De...</td>\n",
       "      <td>1</td>\n",
       "      <td>0.331513</td>\n",
       "      <td>0.715826</td>\n",
       "      <td>Positive</td>\n",
       "      <td>1.0</td>\n",
       "    </tr>\n",
       "  </tbody>\n",
       "</table>\n",
       "<p>10000 rows × 6 columns</p>\n",
       "</div>"
      ],
      "text/plain": [
       "                                                    text  label  polarity  \\\n",
       "10204  Uh oh Another gay film time showing black side...      0  0.083193   \n",
       "28500  case youre wondering buffoonish Loren Cn Crypt...      0 -0.416667   \n",
       "34313  must see film great dialogues great music grea...      1  0.398413   \n",
       "7195   film not fail engage move even audience famili...      1  0.203227   \n",
       "22891  watching Next Action Star reality TV series pl...      1  0.206865   \n",
       "...                                                  ...    ...       ...   \n",
       "25690  Theres really no way beat around bush saying L...      0 -0.088062   \n",
       "15506  Okay struggled set aside fact selling EVP real...      0  0.099091   \n",
       "20273  mind boggles exactly Universal Soldier merited...      0  0.091443   \n",
       "11102  saw movie Tribeca Film Festival say thought am...      1  0.390909   \n",
       "24390  Ernst Lubitsch gave us wonderful films like De...      1  0.331513   \n",
       "\n",
       "       subjectivity Sentiment  Sentiment_label  \n",
       "10204      0.393838  Negative              0.0  \n",
       "28500      0.609524  Negative              0.0  \n",
       "34313      0.634127  Positive              1.0  \n",
       "7195       0.466523  Negative              1.0  \n",
       "22891      0.518120  Negative              1.0  \n",
       "...             ...       ...              ...  \n",
       "25690      0.382870  Negative              0.0  \n",
       "15506      0.451111  Negative              0.0  \n",
       "20273      0.452347  Negative              0.0  \n",
       "11102      0.563636  Positive              1.0  \n",
       "24390      0.715826  Positive              1.0  \n",
       "\n",
       "[10000 rows x 6 columns]"
      ]
     },
     "execution_count": 83,
     "metadata": {},
     "output_type": "execute_result"
    }
   ],
   "source": [
    "result"
   ]
  },
  {
   "cell_type": "code",
   "execution_count": null,
   "id": "3c8e5d7a",
   "metadata": {},
   "outputs": [],
   "source": []
  }
 ],
 "metadata": {
  "kernelspec": {
   "display_name": "Python 3",
   "language": "python",
   "name": "python3"
  },
  "language_info": {
   "codemirror_mode": {
    "name": "ipython",
    "version": 3
   },
   "file_extension": ".py",
   "mimetype": "text/x-python",
   "name": "python",
   "nbconvert_exporter": "python",
   "pygments_lexer": "ipython3",
   "version": "3.7.1"
  }
 },
 "nbformat": 4,
 "nbformat_minor": 5
}
